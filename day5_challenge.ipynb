{
  "nbformat": 4,
  "nbformat_minor": 0,
  "metadata": {
    "colab": {
      "name": "day5-challenge.ipynb",
      "provenance": [],
      "collapsed_sections": [],
      "authorship_tag": "ABX9TyNLG9fwn/phiDpvZYhugaQG",
      "include_colab_link": true
    },
    "kernelspec": {
      "name": "python3",
      "display_name": "Python 3"
    },
    "language_info": {
      "name": "python"
    }
  },
  "cells": [
    {
      "cell_type": "markdown",
      "metadata": {
        "id": "view-in-github",
        "colab_type": "text"
      },
      "source": [
        "<a href=\"https://colab.research.google.com/github/Nikithkumar06/LetsUpgrade_Assignment_Submission_DataVisualization/blob/main/day5_challenge.ipynb\" target=\"_parent\"><img src=\"https://colab.research.google.com/assets/colab-badge.svg\" alt=\"Open In Colab\"/></a>"
      ]
    },
    {
      "cell_type": "code",
      "metadata": {
        "id": "r4NiOdLXdR_3"
      },
      "source": [
        "#Question?\n",
        "\n",
        "#use plotly lib for this problem statement\n",
        "\n",
        "#1. What is Plotly ?\n",
        "#2. Where it is used ?\n",
        "#3. Make a Pie Chart of India's Car companies market share % values :. max ( 6 Companies market share )\n",
        "#4. Plot a Bar Chart with India's Covid 19 active cases ( Max 10 States )\n",
        "#5. Plot a line Chat with India's active covid-19 case recovery ( maximum 12 months)"
      ],
      "execution_count": null,
      "outputs": []
    }
  ]
}