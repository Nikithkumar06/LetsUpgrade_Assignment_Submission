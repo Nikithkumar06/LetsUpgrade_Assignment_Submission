{
  "nbformat": 4,
  "nbformat_minor": 0,
  "metadata": {
    "colab": {
      "name": "Assignment2.ipynb",
      "provenance": [],
      "authorship_tag": "ABX9TyMS7OJ8yJvh4LSEL0/h9aoX",
      "include_colab_link": true
    },
    "kernelspec": {
      "name": "python3",
      "display_name": "Python 3"
    },
    "language_info": {
      "name": "python"
    }
  },
  "cells": [
    {
      "cell_type": "markdown",
      "metadata": {
        "id": "view-in-github",
        "colab_type": "text"
      },
      "source": [
        "<a href=\"https://colab.research.google.com/github/Nikithkumar06/LetsUpgrade_Assignment_Submission_DataVisualization/blob/main/Assignment2.ipynb\" target=\"_parent\"><img src=\"https://colab.research.google.com/assets/colab-badge.svg\" alt=\"Open In Colab\"/></a>"
      ]
    },
    {
      "cell_type": "markdown",
      "metadata": {
        "id": "rB5fkRjKeT0P"
      },
      "source": [
        "DATA VISUALIZATION"
      ]
    },
    {
      "cell_type": "markdown",
      "metadata": {
        "id": "PA6KYAzZd8bT"
      },
      "source": [
        "ASSIGNMENT 2"
      ]
    },
    {
      "cell_type": "markdown",
      "metadata": {
        "id": "EXzZOWK5eCJT"
      },
      "source": [
        "NIKITH SEEMAKURTHI"
      ]
    },
    {
      "cell_type": "markdown",
      "metadata": {
        "id": "pKkVDlDEeGa-"
      },
      "source": [
        "DATE: 7/7/2021"
      ]
    },
    {
      "cell_type": "code",
      "metadata": {
        "id": "FEDDB63dMw2B"
      },
      "source": [
        "import numpy as np\n",
        "import matplotlib.pyplot as plt\n",
        "import pandas as pd\n",
        "import seaborn as sns\n",
        "%matplotlib inline\n",
        "from numpy.random import randn,randint,uniform,sample"
      ],
      "execution_count": 1,
      "outputs": []
    },
    {
      "cell_type": "code",
      "metadata": {
        "colab": {
          "base_uri": "https://localhost:8080/",
          "height": 359
        },
        "id": "M1YV3HZpMzqx",
        "outputId": "72ff125e-b66e-48fb-ecf4-b0a7c3362be5"
      },
      "source": [
        "day2 = pd.DataFrame(randn(10,4),columns=['a','b','c','d'])\n",
        "day2_assign"
      ],
      "execution_count": 9,
      "outputs": [
        {
          "output_type": "execute_result",
          "data": {
            "text/html": [
              "<div>\n",
              "<style scoped>\n",
              "    .dataframe tbody tr th:only-of-type {\n",
              "        vertical-align: middle;\n",
              "    }\n",
              "\n",
              "    .dataframe tbody tr th {\n",
              "        vertical-align: top;\n",
              "    }\n",
              "\n",
              "    .dataframe thead th {\n",
              "        text-align: right;\n",
              "    }\n",
              "</style>\n",
              "<table border=\"1\" class=\"dataframe\">\n",
              "  <thead>\n",
              "    <tr style=\"text-align: right;\">\n",
              "      <th></th>\n",
              "      <th>a</th>\n",
              "      <th>b</th>\n",
              "      <th>c</th>\n",
              "      <th>d</th>\n",
              "    </tr>\n",
              "  </thead>\n",
              "  <tbody>\n",
              "    <tr>\n",
              "      <th>0</th>\n",
              "      <td>-0.716255</td>\n",
              "      <td>0.606364</td>\n",
              "      <td>0.121009</td>\n",
              "      <td>-0.661180</td>\n",
              "    </tr>\n",
              "    <tr>\n",
              "      <th>1</th>\n",
              "      <td>0.287791</td>\n",
              "      <td>0.026898</td>\n",
              "      <td>1.692468</td>\n",
              "      <td>-1.528437</td>\n",
              "    </tr>\n",
              "    <tr>\n",
              "      <th>2</th>\n",
              "      <td>-1.117339</td>\n",
              "      <td>1.154701</td>\n",
              "      <td>-0.037839</td>\n",
              "      <td>-2.417163</td>\n",
              "    </tr>\n",
              "    <tr>\n",
              "      <th>3</th>\n",
              "      <td>0.830756</td>\n",
              "      <td>-0.166777</td>\n",
              "      <td>0.344609</td>\n",
              "      <td>-0.266709</td>\n",
              "    </tr>\n",
              "    <tr>\n",
              "      <th>4</th>\n",
              "      <td>-0.724386</td>\n",
              "      <td>0.830921</td>\n",
              "      <td>-0.949830</td>\n",
              "      <td>-0.049462</td>\n",
              "    </tr>\n",
              "    <tr>\n",
              "      <th>5</th>\n",
              "      <td>-1.022181</td>\n",
              "      <td>-0.033353</td>\n",
              "      <td>-0.590999</td>\n",
              "      <td>-0.913667</td>\n",
              "    </tr>\n",
              "    <tr>\n",
              "      <th>6</th>\n",
              "      <td>-0.132265</td>\n",
              "      <td>-1.041011</td>\n",
              "      <td>1.672265</td>\n",
              "      <td>1.430557</td>\n",
              "    </tr>\n",
              "    <tr>\n",
              "      <th>7</th>\n",
              "      <td>-0.667159</td>\n",
              "      <td>0.398126</td>\n",
              "      <td>1.441234</td>\n",
              "      <td>-0.694311</td>\n",
              "    </tr>\n",
              "    <tr>\n",
              "      <th>8</th>\n",
              "      <td>-2.764290</td>\n",
              "      <td>-0.142322</td>\n",
              "      <td>-0.491318</td>\n",
              "      <td>-0.126573</td>\n",
              "    </tr>\n",
              "    <tr>\n",
              "      <th>9</th>\n",
              "      <td>-0.342111</td>\n",
              "      <td>-2.262880</td>\n",
              "      <td>0.246855</td>\n",
              "      <td>0.244887</td>\n",
              "    </tr>\n",
              "  </tbody>\n",
              "</table>\n",
              "</div>"
            ],
            "text/plain": [
              "          a         b         c         d\n",
              "0 -0.716255  0.606364  0.121009 -0.661180\n",
              "1  0.287791  0.026898  1.692468 -1.528437\n",
              "2 -1.117339  1.154701 -0.037839 -2.417163\n",
              "3  0.830756 -0.166777  0.344609 -0.266709\n",
              "4 -0.724386  0.830921 -0.949830 -0.049462\n",
              "5 -1.022181 -0.033353 -0.590999 -0.913667\n",
              "6 -0.132265 -1.041011  1.672265  1.430557\n",
              "7 -0.667159  0.398126  1.441234 -0.694311\n",
              "8 -2.764290 -0.142322 -0.491318 -0.126573\n",
              "9 -0.342111 -2.262880  0.246855  0.244887"
            ]
          },
          "metadata": {
            "tags": []
          },
          "execution_count": 9
        }
      ]
    },
    {
      "cell_type": "code",
      "metadata": {
        "colab": {
          "base_uri": "https://localhost:8080/",
          "height": 278
        },
        "id": "itREtCAhM2l4",
        "outputId": "2649dc5f-46c0-4c04-d165-1c7193416dd5"
      },
      "source": [
        "day2_assign.plot.bar()\n",
        "plt.title(\"Bar Graph\")\n",
        "plt.show()"
      ],
      "execution_count": 10,
      "outputs": [
        {
          "output_type": "display_data",
          "data": {
            "image/png": "[encoded data removed]",
            "text/plain": [
              "<Figure size 432x288 with 1 Axes>"
            ]
          },
          "metadata": {
            "tags": [],
            "needs_background": "light"
          }
        }
      ]
    },
    {
      "cell_type": "code",
      "metadata": {
        "id": "n9gyy5T8M-7-"
      },
      "source": [
        ""
      ],
      "execution_count": null,
      "outputs": []
    }
  ]
}