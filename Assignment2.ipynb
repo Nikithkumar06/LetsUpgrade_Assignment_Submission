{
  "nbformat": 4,
  "nbformat_minor": 0,
  "metadata": {
    "colab": {
      "name": "Assignment2.ipynb",
      "provenance": [],
      "authorship_tag": "ABX9TyPNdBP9+SllAcJ//MAkHDfG",
      "include_colab_link": true
    },
    "kernelspec": {
      "name": "python3",
      "display_name": "Python 3"
    },
    "language_info": {
      "name": "python"
    }
  },
  "cells": [
    {
      "cell_type": "markdown",
      "metadata": {
        "id": "view-in-github",
        "colab_type": "text"
      },
      "source": [
        "<a href=\"https://colab.research.google.com/github/Nikithkumar06/LetsUpgrade_Assignment_Submission_DataVisualization/blob/main/Assignment2.ipynb\" target=\"_parent\"><img src=\"https://colab.research.google.com/assets/colab-badge.svg\" alt=\"Open In Colab\"/></a>"
      ]
    },
    {
      "cell_type": "markdown",
      "metadata": {
        "id": "rB5fkRjKeT0P"
      },
      "source": [
        "DATA VISUALIZATION"
      ]
    },
    {
      "cell_type": "markdown",
      "metadata": {
        "id": "PA6KYAzZd8bT"
      },
      "source": [
        "ASSIGNMENT 2"
      ]
    },
    {
      "cell_type": "markdown",
      "metadata": {
        "id": "EXzZOWK5eCJT"
      },
      "source": [
        "NIKITH SEEMAKURTHI"
      ]
    },
    {
      "cell_type": "markdown",
      "metadata": {
        "id": "pKkVDlDEeGa-"
      },
      "source": [
        "DATE: 7/7/2021"
      ]
    },
    {
      "cell_type": "code",
      "metadata": {
        "id": "FEDDB63dMw2B"
      },
      "source": [
        "import numpy as np\n",
        "import matplotlib.pyplot as plt\n",
        "import pandas as pd\n",
        "import seaborn as sns\n",
        "%matplotlib inline\n",
        "from numpy.random import randn,randint,uniform,sample"
      ],
      "execution_count": 1,
      "outputs": []
    },
    {
      "cell_type": "code",
      "metadata": {
        "colab": {
          "base_uri": "https://localhost:8080/",
          "height": 359
        },
        "id": "M1YV3HZpMzqx",
        "outputId": "9e9de857-4732-4adc-9c24-9e2b6140cfe9"
      },
      "source": [
        "day2_assign = pd.DataFrame(randn(10,4),columns=['a','b','c','d'])\n",
        "day2_assign"
      ],
      "execution_count": 5,
      "outputs": [
        {
          "output_type": "execute_result",
          "data": {
            "text/html": [
              "<div>\n",
              "<style scoped>\n",
              "    .dataframe tbody tr th:only-of-type {\n",
              "        vertical-align: middle;\n",
              "    }\n",
              "\n",
              "    .dataframe tbody tr th {\n",
              "        vertical-align: top;\n",
              "    }\n",
              "\n",
              "    .dataframe thead th {\n",
              "        text-align: right;\n",
              "    }\n",
              "</style>\n",
              "<table border=\"1\" class=\"dataframe\">\n",
              "  <thead>\n",
              "    <tr style=\"text-align: right;\">\n",
              "      <th></th>\n",
              "      <th>a</th>\n",
              "      <th>b</th>\n",
              "      <th>c</th>\n",
              "      <th>d</th>\n",
              "    </tr>\n",
              "  </thead>\n",
              "  <tbody>\n",
              "    <tr>\n",
              "      <th>0</th>\n",
              "      <td>-0.372425</td>\n",
              "      <td>-0.180832</td>\n",
              "      <td>0.734802</td>\n",
              "      <td>-0.717359</td>\n",
              "    </tr>\n",
              "    <tr>\n",
              "      <th>1</th>\n",
              "      <td>-0.414435</td>\n",
              "      <td>-1.281830</td>\n",
              "      <td>-1.804639</td>\n",
              "      <td>0.242458</td>\n",
              "    </tr>\n",
              "    <tr>\n",
              "      <th>2</th>\n",
              "      <td>-0.473178</td>\n",
              "      <td>-0.452175</td>\n",
              "      <td>-0.144805</td>\n",
              "      <td>-0.044679</td>\n",
              "    </tr>\n",
              "    <tr>\n",
              "      <th>3</th>\n",
              "      <td>-0.031395</td>\n",
              "      <td>-0.697498</td>\n",
              "      <td>0.882640</td>\n",
              "      <td>-0.215766</td>\n",
              "    </tr>\n",
              "    <tr>\n",
              "      <th>4</th>\n",
              "      <td>-1.339556</td>\n",
              "      <td>0.285432</td>\n",
              "      <td>0.771577</td>\n",
              "      <td>-0.033480</td>\n",
              "    </tr>\n",
              "    <tr>\n",
              "      <th>5</th>\n",
              "      <td>1.684932</td>\n",
              "      <td>0.948117</td>\n",
              "      <td>2.162205</td>\n",
              "      <td>0.101434</td>\n",
              "    </tr>\n",
              "    <tr>\n",
              "      <th>6</th>\n",
              "      <td>1.271614</td>\n",
              "      <td>0.140555</td>\n",
              "      <td>0.036462</td>\n",
              "      <td>-2.378167</td>\n",
              "    </tr>\n",
              "    <tr>\n",
              "      <th>7</th>\n",
              "      <td>-0.144586</td>\n",
              "      <td>-0.292410</td>\n",
              "      <td>-0.519264</td>\n",
              "      <td>0.381475</td>\n",
              "    </tr>\n",
              "    <tr>\n",
              "      <th>8</th>\n",
              "      <td>1.056100</td>\n",
              "      <td>1.586445</td>\n",
              "      <td>0.789508</td>\n",
              "      <td>0.250561</td>\n",
              "    </tr>\n",
              "    <tr>\n",
              "      <th>9</th>\n",
              "      <td>0.089747</td>\n",
              "      <td>1.611418</td>\n",
              "      <td>-2.036856</td>\n",
              "      <td>2.356161</td>\n",
              "    </tr>\n",
              "  </tbody>\n",
              "</table>\n",
              "</div>"
            ],
            "text/plain": [
              "          a         b         c         d\n",
              "0 -0.372425 -0.180832  0.734802 -0.717359\n",
              "1 -0.414435 -1.281830 -1.804639  0.242458\n",
              "2 -0.473178 -0.452175 -0.144805 -0.044679\n",
              "3 -0.031395 -0.697498  0.882640 -0.215766\n",
              "4 -1.339556  0.285432  0.771577 -0.033480\n",
              "5  1.684932  0.948117  2.162205  0.101434\n",
              "6  1.271614  0.140555  0.036462 -2.378167\n",
              "7 -0.144586 -0.292410 -0.519264  0.381475\n",
              "8  1.056100  1.586445  0.789508  0.250561\n",
              "9  0.089747  1.611418 -2.036856  2.356161"
            ]
          },
          "metadata": {
            "tags": []
          },
          "execution_count": 5
        }
      ]
    },
    {
      "cell_type": "code",
      "metadata": {
        "colab": {
          "base_uri": "https://localhost:8080/",
          "height": 278
        },
        "id": "itREtCAhM2l4",
        "outputId": "83de44ee-5305-4d50-bac5-678155c05e10"
      },
      "source": [
        "day2_assign.plot.bar()\n",
        "plt.title(\"Bar Graph\")\n",
        "plt.show()"
      ],
      "execution_count": 6,
      "outputs": [
        {
          "output_type": "display_data",
          "data": {
            "image/png": "[encoded data removed]",
            "text/plain": [
              "<Figure size 432x288 with 1 Axes>"
            ]
          },
          "metadata": {
            "tags": [],
            "needs_background": "light"
          }
        }
      ]
    },
    {
      "cell_type": "code",
      "metadata": {
        "id": "n9gyy5T8M-7-"
      },
      "source": [
        ""
      ],
      "execution_count": null,
      "outputs": []
    }
  ]
}